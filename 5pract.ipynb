{
 "cells": [
  {
   "cell_type": "code",
   "execution_count": 1,
   "metadata": {},
   "outputs": [],
   "source": [
    "import pandas as pd\n",
    "\n",
    "games = pd.read_csv('game_info.csv')\n"
   ]
  },
  {
   "cell_type": "code",
   "execution_count": 2,
   "metadata": {},
   "outputs": [
    {
     "name": "stdout",
     "output_type": "stream",
     "text": [
      "           id               slug                   name  metacritic  \\\n",
      "0           1     dgeneration-hd        D/Generation HD         NaN   \n",
      "1          10            g-prime  G Prime Into The Rain         NaN   \n",
      "2         100       land-sliders           Land Sliders         NaN   \n",
      "3        1000         pixel-gear             Pixel Gear         NaN   \n",
      "4       10000     gods-and-idols         Gods and Idols         NaN   \n",
      "...       ...                ...                    ...         ...   \n",
      "474412  99994       holy-or-dead           Holy or Dead         NaN   \n",
      "474413  99995  airstrike-hd-demo      Airstrike HD Demo         NaN   \n",
      "474414  99997     uranias-mirror        Urania's Mirror         NaN   \n",
      "474415  99998         simucities             Simucities         NaN   \n",
      "474416  99999     pocket-assault  Pocket Assault (itch)         NaN   \n",
      "\n",
      "          released    tba              updated  \\\n",
      "0       2015-10-23  False  2019-09-17T11:58:57   \n",
      "1       2016-01-06  False  2019-11-06T23:04:19   \n",
      "2       2015-09-24  False  2019-10-22T13:56:16   \n",
      "3       2016-10-20  False  2019-08-28T22:16:02   \n",
      "4       2016-12-12  False  2019-09-17T13:37:13   \n",
      "...            ...    ...                  ...   \n",
      "474412  2017-05-17  False  2019-01-09T12:41:06   \n",
      "474413  2016-03-04  False  2019-01-09T12:41:06   \n",
      "474414  2016-04-25  False  2019-01-09T12:41:06   \n",
      "474415  2017-05-26  False  2019-01-09T12:41:06   \n",
      "474416  2015-08-20  False  2019-01-09T12:41:06   \n",
      "\n",
      "                                                  website  rating  rating_top  \\\n",
      "0                                  http://dgeneration.net     0.0           0   \n",
      "1                                                     NaN     0.0           0   \n",
      "2                                  http://prettygreat.com     0.0           0   \n",
      "3       https://www.facebook.com/Geronimo-Interactive-...     0.0           0   \n",
      "4                            http://www.godsandidols.com/     0.0           1   \n",
      "...                                                   ...     ...         ...   \n",
      "474412                                                NaN     0.0           0   \n",
      "474413                                                NaN     0.0           0   \n",
      "474414                                                NaN     0.0           0   \n",
      "474415                                                NaN     0.0           0   \n",
      "474416                                                NaN     0.0           0   \n",
      "\n",
      "        ...                         developers  \\\n",
      "0       ...                West Coast Software   \n",
      "1       ...                         Soma Games   \n",
      "2       ...                    Prettygreat Pty   \n",
      "3       ...  Oasis Games||Geronimo Interactive   \n",
      "4       ...                         Viking Tao   \n",
      "...     ...                                ...   \n",
      "474412  ...                            Ralidon   \n",
      "474413  ...            Fifth Dimension Company   \n",
      "474414  ...                         sneakthief   \n",
      "474415  ...                          keypixels   \n",
      "474416  ...                  Carsten_Ostermann   \n",
      "\n",
      "                                      genres  \\\n",
      "0                          Adventure||Puzzle   \n",
      "1                          Simulation||Indie   \n",
      "2                          Adventure||Arcade   \n",
      "3                              Action||Indie   \n",
      "4       RPG||Strategy||Massively Multiplayer   \n",
      "...                                      ...   \n",
      "474412                                   NaN   \n",
      "474413                                Action   \n",
      "474414                             Adventure   \n",
      "474415                                   NaN   \n",
      "474416                               Shooter   \n",
      "\n",
      "                                   publishers   esrb_rating  added_status_yet  \\\n",
      "0                         West Coast Software  Everyone 10+                 4   \n",
      "1       Immanitas Entertainment||Code-Monkeys      Everyone                 2   \n",
      "2                             Prettygreat Pty  Everyone 10+                 0   \n",
      "3                        Geronimo Interactive          Teen                 0   \n",
      "4                                  Viking Tao           NaN                 2   \n",
      "...                                       ...           ...               ...   \n",
      "474412                                    NaN           NaN                 0   \n",
      "474413                                    NaN           NaN                 0   \n",
      "474414                                    NaN           NaN                 0   \n",
      "474415                                    NaN           NaN                 0   \n",
      "474416                                    NaN           NaN                 0   \n",
      "\n",
      "        added_status_owned added_status_beaten added_status_toplay  \\\n",
      "0                       88                   2                   2   \n",
      "1                       42                   2                   0   \n",
      "2                        2                   2                   0   \n",
      "3                        1                   0                   0   \n",
      "4                       79                   0                   0   \n",
      "...                    ...                 ...                 ...   \n",
      "474412                   0                   0                   0   \n",
      "474413                   0                   0                   0   \n",
      "474414                   0                   0                   0   \n",
      "474415                   0                   0                   0   \n",
      "474416                   0                   0                   0   \n",
      "\n",
      "       added_status_dropped added_status_playing  \n",
      "0                         0                    0  \n",
      "1                         0                    0  \n",
      "2                         1                    0  \n",
      "3                         0                    0  \n",
      "4                         0                    0  \n",
      "...                     ...                  ...  \n",
      "474412                    0                    0  \n",
      "474413                    0                    0  \n",
      "474414                    0                    0  \n",
      "474415                    0                    0  \n",
      "474416                    0                    0  \n",
      "\n",
      "[474417 rows x 27 columns]\n"
     ]
    }
   ],
   "source": [
    "# Вывести весь датасет и опишите его\n",
    "print(games)"
   ]
  },
  {
   "cell_type": "code",
   "execution_count": null,
   "metadata": {},
   "outputs": [],
   "source": [
    "# Вывести наименование всех колонок, написать что они означают в вашем датасете\n",
    "for i in games:\n",
    "    print(i)"
   ]
  },
  {
   "cell_type": "code",
   "execution_count": null,
   "metadata": {},
   "outputs": [],
   "source": [
    "# Вывести размерноть массива\n",
    "rows = len(games.axes[0]) \n",
    "cols = len(games.axes[1])\n",
    "#! можно и через shape, но так не интересно\n",
    "print(f\"Строк:{rows}\\nСтолбцов:{cols}\")"
   ]
  },
  {
   "cell_type": "code",
   "execution_count": null,
   "metadata": {},
   "outputs": [],
   "source": [
    "# Вывести все уникальные значения\n",
    "for i in games:\n",
    "    print(games[i].unique())"
   ]
  },
  {
   "cell_type": "code",
   "execution_count": null,
   "metadata": {},
   "outputs": [],
   "source": [
    "# Отсортировать по определенным параметрам\n",
    "games = games.sort_values(by=\"slug\")\n",
    "print(games)"
   ]
  },
  {
   "cell_type": "code",
   "execution_count": null,
   "metadata": {},
   "outputs": [],
   "source": [
    "# Удалить ненужные столбцы или строчки \n",
    "games = games.drop([\"website\"], axis = 1)\n",
    "print(games)\n"
   ]
  },
  {
   "cell_type": "code",
   "execution_count": null,
   "metadata": {},
   "outputs": [],
   "source": [
    "# Заменить определенные значения в датасете (например, пустые)\n",
    "games = games.replace({\"playtime\":2}, 5)\n",
    "\n",
    "print(games)"
   ]
  },
  {
   "cell_type": "code",
   "execution_count": null,
   "metadata": {},
   "outputs": [],
   "source": [
    "# Удалить дубликаты\n",
    "games.drop_duplicates()"
   ]
  },
  {
   "cell_type": "code",
   "execution_count": null,
   "metadata": {},
   "outputs": [],
   "source": [
    "# Провести анализ с помощью функций info\n",
    "print(games.info())"
   ]
  },
  {
   "cell_type": "code",
   "execution_count": null,
   "metadata": {},
   "outputs": [],
   "source": [
    "# Провести анализ с помощью функций describe\n",
    "print(games.describe(include='all'))"
   ]
  },
  {
   "cell_type": "code",
   "execution_count": null,
   "metadata": {},
   "outputs": [],
   "source": [
    "# Провести выборку данных по строкам и столбцам с помощью loc\n",
    "a = games.loc[games[\"added_status_yet\"] == \"2\"]\n",
    "\n",
    "print(a)"
   ]
  },
  {
   "cell_type": "code",
   "execution_count": null,
   "metadata": {},
   "outputs": [],
   "source": [
    "# Сохранить новый датасет\n",
    "games.to_csv(\"game_info.csv\", index=False)"
   ]
  }
 ],
 "metadata": {
  "kernelspec": {
   "display_name": "Python 3",
   "language": "python",
   "name": "python3"
  },
  "language_info": {
   "codemirror_mode": {
    "name": "ipython",
    "version": 3
   },
   "file_extension": ".py",
   "mimetype": "text/x-python",
   "name": "python",
   "nbconvert_exporter": "python",
   "pygments_lexer": "ipython3",
   "version": "3.11.5"
  }
 },
 "nbformat": 4,
 "nbformat_minor": 2
}
